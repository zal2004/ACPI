{
 "cells": [
  {
   "metadata": {
    "tags": [],
    "ExecuteTime": {
     "end_time": "2025-08-29T19:11:07.982478Z",
     "start_time": "2025-08-29T19:11:07.970579Z"
    }
   },
   "cell_type": "code",
   "source": [
    "from xgboost import XGBRegressor\n",
    "from sklearn.datasets import fetch_california_housing\n",
    "from sklearn.model_selection import train_test_split\n",
    "import warnings\n",
    "from acpi.utils import compute_coverage\n",
    "from acpi import ACPI\n",
    "\n",
    "\n",
    "warnings.filterwarnings(\"ignore\")\n",
    "\n",
    "test_ratio = 0.25\n",
    "calibration_ratio = 0.5\n",
    "alpha = 0.1\n",
    "\n",
    "sklearn_data = fetch_california_housing()\n",
    "X, y = sklearn_data.data, sklearn_data.target\n"
   ],
   "id": "60cefc240e71bd3c",
   "outputs": [],
   "execution_count": 12
  },
  {
   "metadata": {
    "tags": [],
    "ExecuteTime": {
     "end_time": "2025-08-29T19:51:56.593817Z",
     "start_time": "2025-08-29T19:11:07.990006Z"
    }
   },
   "cell_type": "code",
   "source": [
    "res = []\n",
    "for i in range(10):\n",
    "    x_train, x_test, y_train, y_test = train_test_split(X, y, test_size=test_ratio)\n",
    "    x_train, x_cal, y_train, y_cal = train_test_split(x_train, y_train, test_size=calibration_ratio)\n",
    "    model = XGBRegressor()\n",
    "    model.fit(x_train, y_train)\n",
    "\n",
    "    # It has the same params as a Random Forest, and it should be tuned to predict the score of calibration set.\n",
    "    acpi = ACPI(model_cali=model, n_estimators=100, max_depth=20, min_node_size=10)\n",
    "\n",
    "    acpi.fit(x_cal, y_cal, nonconformity_func=None)\n",
    "    # You can use custom nonconformity score by using the argument 'nonconformity_func'.\n",
    "    # It takes a callable[[ndarray, ndarray], ndarray] that return the nonconformity\n",
    "    # score given (predictions, y_true). By the default, it uses absolute residual if the model\n",
    "    # is mean estimates and max(pred_lower - y, y - pred_upper) if the model is quantile estimates.\n",
    "\n",
    "    v_cal = acpi.nonconformity_score(model.predict(x_cal), y_cal)\n",
    "\n",
    "    acpi.fit_calibration(x_cal, y_cal, nonconformity_func=None, quantile=1-alpha, only_qrf=True)\n",
    "    y_lower, y_upper = acpi.predict_pi(x_test, method='qrf')\n",
    "\n",
    "\n",
    "    coverage_qrf = compute_coverage(\n",
    "        y_test,\n",
    "        y_lower,\n",
    "        y_upper)\n",
    "\n",
    "    res.append(coverage_qrf)\n",
    "    print(f'Coverage QRF at {i} = ', coverage_qrf)"
   ],
   "id": "8334552e8481cfc0",
   "outputs": [
    {
     "name": "stderr",
     "output_type": "stream",
     "text": [
      "100%|██████████| 50/50 [03:41<00:00,  4.44s/it]\n"
     ]
    },
    {
     "name": "stdout",
     "output_type": "stream",
     "text": [
      "Coverage QRF at 0 =  0.8887596899224807\n"
     ]
    },
    {
     "name": "stderr",
     "output_type": "stream",
     "text": [
      "100%|██████████| 50/50 [03:48<00:00,  4.58s/it]\n"
     ]
    },
    {
     "name": "stdout",
     "output_type": "stream",
     "text": [
      "Coverage QRF at 1 =  0.8959302325581395\n"
     ]
    },
    {
     "name": "stderr",
     "output_type": "stream",
     "text": [
      "100%|██████████| 50/50 [04:02<00:00,  4.85s/it]\n"
     ]
    },
    {
     "name": "stdout",
     "output_type": "stream",
     "text": [
      "Coverage QRF at 2 =  0.9025193798449612\n"
     ]
    },
    {
     "name": "stderr",
     "output_type": "stream",
     "text": [
      "100%|██████████| 50/50 [03:56<00:00,  4.73s/it]\n"
     ]
    },
    {
     "name": "stdout",
     "output_type": "stream",
     "text": [
      "Coverage QRF at 3 =  0.8922480620155039\n"
     ]
    },
    {
     "name": "stderr",
     "output_type": "stream",
     "text": [
      "100%|██████████| 50/50 [04:03<00:00,  4.86s/it]\n"
     ]
    },
    {
     "name": "stdout",
     "output_type": "stream",
     "text": [
      "Coverage QRF at 4 =  0.8996124031007752\n"
     ]
    },
    {
     "name": "stderr",
     "output_type": "stream",
     "text": [
      "100%|██████████| 50/50 [03:56<00:00,  4.73s/it]\n"
     ]
    },
    {
     "name": "stdout",
     "output_type": "stream",
     "text": [
      "Coverage QRF at 5 =  0.8965116279069767\n"
     ]
    },
    {
     "name": "stderr",
     "output_type": "stream",
     "text": [
      "100%|██████████| 50/50 [04:03<00:00,  4.87s/it]\n"
     ]
    },
    {
     "name": "stdout",
     "output_type": "stream",
     "text": [
      "Coverage QRF at 6 =  0.8936046511627908\n"
     ]
    },
    {
     "name": "stderr",
     "output_type": "stream",
     "text": [
      "100%|██████████| 50/50 [03:53<00:00,  4.68s/it]\n"
     ]
    },
    {
     "name": "stdout",
     "output_type": "stream",
     "text": [
      "Coverage QRF at 7 =  0.9003875968992248\n"
     ]
    },
    {
     "name": "stderr",
     "output_type": "stream",
     "text": [
      "100%|██████████| 50/50 [03:45<00:00,  4.50s/it]\n"
     ]
    },
    {
     "name": "stdout",
     "output_type": "stream",
     "text": [
      "Coverage QRF at 8 =  0.8959302325581395\n"
     ]
    },
    {
     "name": "stderr",
     "output_type": "stream",
     "text": [
      "100%|██████████| 50/50 [03:30<00:00,  4.20s/it]\n"
     ]
    },
    {
     "name": "stdout",
     "output_type": "stream",
     "text": [
      "Coverage QRF at 9 =  0.9038759689922481\n"
     ]
    }
   ],
   "execution_count": 13
  },
  {
   "metadata": {
    "ExecuteTime": {
     "end_time": "2025-08-29T19:51:56.812055Z",
     "start_time": "2025-08-29T19:51:56.672600Z"
    }
   },
   "cell_type": "code",
   "source": [
    "# plot the results\n",
    "import matplotlib.pyplot as plt\n",
    "plt.plot(range(10), res, marker='o')\n",
    "plt.axhline(y=1-alpha, color='r', linestyle='--', label='Target Coverage')\n",
    "plt.title('ACPI Coverage over Multiple Runs')\n",
    "plt.xlabel('Run')\n",
    "plt.ylabel('Coverage')\n",
    "plt.ylim(0.8, 1)\n",
    "plt.legend()\n",
    "plt.grid()\n",
    "plt.show()\n"
   ],
   "id": "74bc2478014d55d5",
   "outputs": [
    {
     "data": {
      "text/plain": [
       "<Figure size 640x480 with 1 Axes>"
      ],
      "image/png": "[encoded data removed]"
     },
     "metadata": {},
     "output_type": "display_data"
    }
   ],
   "execution_count": 14
  },
  {
   "metadata": {
    "ExecuteTime": {
     "end_time": "2025-08-29T19:51:56.822972Z",
     "start_time": "2025-08-29T19:51:56.820629Z"
    }
   },
   "cell_type": "code",
   "source": "",
   "id": "663a187f0a725908",
   "outputs": [],
   "execution_count": null
  }
 ],
 "metadata": {
  "kernelspec": {
   "display_name": "Python 3",
   "language": "python",
   "name": "python3"
  },
  "language_info": {
   "codemirror_mode": {
    "name": "ipython",
    "version": 2
   },
   "file_extension": ".py",
   "mimetype": "text/x-python",
   "name": "python",
   "nbconvert_exporter": "python",
   "pygments_lexer": "ipython2",
   "version": "2.7.6"
  }
 },
 "nbformat": 4,
 "nbformat_minor": 5
}
