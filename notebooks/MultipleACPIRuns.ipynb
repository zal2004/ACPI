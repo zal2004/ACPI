{
 "cells": [
  {
   "metadata": {
    "tags": [],
    "ExecuteTime": {
     "end_time": "2025-08-29T19:11:07.982478Z",
     "start_time": "2025-08-29T19:11:07.970579Z"
    }
   },
   "cell_type": "code",
   "source": [
    "from xgboost import XGBRegressor\n",
    "from sklearn.datasets import fetch_california_housing\n",
    "from sklearn.model_selection import train_test_split\n",
    "import warnings\n",
    "from acpi.utils import compute_coverage\n",
    "from acpi import ACPI\n",
    "\n",
    "\n",
    "warnings.filterwarnings(\"ignore\")\n",
    "\n",
    "test_ratio = 0.25\n",
    "calibration_ratio = 0.5\n",
    "alpha = 0.1\n",
    "\n",
    "sklearn_data = fetch_california_housing()\n",
    "X, y = sklearn_data.data, sklearn_data.target\n"
   ],
   "id": "60cefc240e71bd3c",
   "outputs": [],
   "execution_count": 12
  },
  {
   "metadata": {
    "tags": [],
    "ExecuteTime": {
     "end_time": "2025-08-29T19:51:56.593817Z",
     "start_time": "2025-08-29T19:11:07.990006Z"
    }
   },
   "cell_type": "code",
   "source": [
    "res = []\n",
    "for i in range(10):\n",
    "    x_train, x_test, y_train, y_test = train_test_split(X, y, test_size=test_ratio)\n",
    "    x_train, x_cal, y_train, y_cal = train_test_split(x_train, y_train, test_size=calibration_ratio)\n",
    "    model = XGBRegressor()\n",
    "    model.fit(x_train, y_train)\n",
    "\n",
    "    # It has the same params as a Random Forest, and it should be tuned to predict the score of calibration set.\n",
    "    acpi = ACPI(model_cali=model, n_estimators=100, max_depth=20, min_node_size=10)\n",
    "\n",
    "    acpi.fit(x_cal, y_cal, nonconformity_func=None)\n",
    "    # You can use custom nonconformity score by using the argument 'nonconformity_func'.\n",
    "    # It takes a callable[[ndarray, ndarray], ndarray] that return the nonconformity\n",
    "    # score given (predictions, y_true). By the default, it uses absolute residual if the model\n",
    "    # is mean estimates and max(pred_lower - y, y - pred_upper) if the model is quantile estimates.\n",
    "\n",
    "    v_cal = acpi.nonconformity_score(model.predict(x_cal), y_cal)\n",
    "\n",
    "    acpi.fit_calibration(x_cal, y_cal, nonconformity_func=None, quantile=1-alpha, only_qrf=True)\n",
    "    y_lower, y_upper = acpi.predict_pi(x_test, method='qrf')\n",
    "\n",
    "\n",
    "    coverage_qrf = compute_coverage(\n",
    "        y_test,\n",
    "        y_lower,\n",
    "        y_upper)\n",
    "\n",
    "    res.append(coverage_qrf)\n",
    "    print(f'Coverage QRF at {i} = ', coverage_qrf)"
   ],
   "id": "8334552e8481cfc0",
   "outputs": [
    {
     "name": "stderr",
     "output_type": "stream",
     "text": [
      "100%|██████████| 50/50 [03:41<00:00,  4.44s/it]\n"
     ]
    },
    {
     "name": "stdout",
     "output_type": "stream",
     "text": [
      "Coverage QRF at 0 =  0.8887596899224807\n"
     ]
    },
    {
     "name": "stderr",
     "output_type": "stream",
     "text": [
      "100%|██████████| 50/50 [03:48<00:00,  4.58s/it]\n"
     ]
    },
    {
     "name": "stdout",
     "output_type": "stream",
     "text": [
      "Coverage QRF at 1 =  0.8959302325581395\n"
     ]
    },
    {
     "name": "stderr",
     "output_type": "stream",
     "text": [
      "100%|██████████| 50/50 [04:02<00:00,  4.85s/it]\n"
     ]
    },
    {
     "name": "stdout",
     "output_type": "stream",
     "text": [
      "Coverage QRF at 2 =  0.9025193798449612\n"
     ]
    },
    {
     "name": "stderr",
     "output_type": "stream",
     "text": [
      "100%|██████████| 50/50 [03:56<00:00,  4.73s/it]\n"
     ]
    },
    {
     "name": "stdout",
     "output_type": "stream",
     "text": [
      "Coverage QRF at 3 =  0.8922480620155039\n"
     ]
    },
    {
     "name": "stderr",
     "output_type": "stream",
     "text": [
      "100%|██████████| 50/50 [04:03<00:00,  4.86s/it]\n"
     ]
    },
    {
     "name": "stdout",
     "output_type": "stream",
     "text": [
      "Coverage QRF at 4 =  0.8996124031007752\n"
     ]
    },
    {
     "name": "stderr",
     "output_type": "stream",
     "text": [
      "100%|██████████| 50/50 [03:56<00:00,  4.73s/it]\n"
     ]
    },
    {
     "name": "stdout",
     "output_type": "stream",
     "text": [
      "Coverage QRF at 5 =  0.8965116279069767\n"
     ]
    },
    {
     "name": "stderr",
     "output_type": "stream",
     "text": [
      "100%|██████████| 50/50 [04:03<00:00,  4.87s/it]\n"
     ]
    },
    {
     "name": "stdout",
     "output_type": "stream",
     "text": [
      "Coverage QRF at 6 =  0.8936046511627908\n"
     ]
    },
    {
     "name": "stderr",
     "output_type": "stream",
     "text": [
      "100%|██████████| 50/50 [03:53<00:00,  4.68s/it]\n"
     ]
    },
    {
     "name": "stdout",
     "output_type": "stream",
     "text": [
      "Coverage QRF at 7 =  0.9003875968992248\n"
     ]
    },
    {
     "name": "stderr",
     "output_type": "stream",
     "text": [
      "100%|██████████| 50/50 [03:45<00:00,  4.50s/it]\n"
     ]
    },
    {
     "name": "stdout",
     "output_type": "stream",
     "text": [
      "Coverage QRF at 8 =  0.8959302325581395\n"
     ]
    },
    {
     "name": "stderr",
     "output_type": "stream",
     "text": [
      "100%|██████████| 50/50 [03:30<00:00,  4.20s/it]\n"
     ]
    },
    {
     "name": "stdout",
     "output_type": "stream",
     "text": [
      "Coverage QRF at 9 =  0.9038759689922481\n"
     ]
    }
   ],
   "execution_count": 13
  },
  {
   "metadata": {
    "ExecuteTime": {
     "end_time": "2025-08-29T19:51:56.812055Z",
     "start_time": "2025-08-29T19:51:56.672600Z"
    }
   },
   "cell_type": "code",
   "source": [
    "# plot the results\n",
    "import matplotlib.pyplot as plt\n",
    "plt.plot(range(10), res, marker='o')\n",
    "plt.axhline(y=1-alpha, color='r', linestyle='--', label='Target Coverage')\n",
    "plt.title('ACPI Coverage over Multiple Runs')\n",
    "plt.xlabel('Run')\n",
    "plt.ylabel('Coverage')\n",
    "plt.ylim(0.8, 1)\n",
    "plt.legend()\n",
    "plt.grid()\n",
    "plt.show()\n"
   ],
   "id": "74bc2478014d55d5",
   "outputs": [
    {
     "data": {
      "text/plain": [
       "<Figure size 640x480 with 1 Axes>"
      ],
      "image/png": "[encoded data removed]"
     },
     "metadata": {},
     "output_type": "display_data"
    }
   ],
   "execution_count": 14
  },
  {
   "metadata": {},
   "cell_type": "markdown",
   "source": [
    "# Coverage outlier percentage\n",
    "The goal is to check how many times the coverage is above and below the target coverage."
   ],
   "id": "a17ab6899f8e5725"
  },
  {
   "metadata": {
    "jupyter": {
     "is_executing": true
    },
    "ExecuteTime": {
     "start_time": "2025-08-30T19:47:01.215558Z"
    }
   },
   "cell_type": "code",
   "source": [
    "import math, random, numpy as np, pandas as pd, torch\n",
    "from torch import nn\n",
    "from torch.utils.data import DataLoader, TensorDataset\n",
    "import torch.optim as optim\n",
    "import matplotlib.pyplot as plt\n",
    "from acpi import ACPI\n",
    "from acpi.utils import compute_coverage\n",
    "\n",
    "# ------------------\n",
    "# Data utilities\n",
    "# ------------------\n",
    "def read_data(file):\n",
    "    df = pd.read_csv(file, parse_dates=[\"datetime\"]).set_index(\"datetime\").sort_index()\n",
    "    for bcol in [\"holiday\", \"workingday\"]:\n",
    "        if bcol in df.columns:\n",
    "            df[bcol] = df[bcol].astype(bool)\n",
    "    df = df.fillna(method='ffill').fillna(method='bfill')\n",
    "    df['hour'] = df.index.hour\n",
    "    df['day_of_week'] = df.index.dayofweek\n",
    "    df['month'] = df.index.month\n",
    "    return df\n",
    "\n",
    "def create_sequences(data, context_length, prediction_length):\n",
    "    X, y = [], []\n",
    "    for i in range(len(data) - context_length - prediction_length + 1):\n",
    "        X.append(data[i:i+context_length])\n",
    "        y.append(data[i+context_length:i+context_length+prediction_length])\n",
    "    return np.array(X), np.array(y)\n",
    "\n",
    "def prepare_acpi_data(data, context_length, prediction_length=1, test_split=0.3, cal_split=0.5):\n",
    "    X, y = create_sequences(data, context_length, prediction_length)\n",
    "    n_test = int(len(X) * test_split)\n",
    "    X_temp, X_test = X[:-n_test], X[-n_test:]\n",
    "    y_temp, y_test = y[:-n_test], y[-n_test:]\n",
    "    n_cal = int(len(X_temp) * cal_split)\n",
    "    X_train, X_cal = X_temp[:-n_cal], X_temp[-n_cal:]\n",
    "    y_train, y_cal = y_temp[:-n_cal], y_temp[-n_cal:]\n",
    "    return X_train, X_cal, X_test, y_train.flatten(), y_cal.flatten(), y_test.flatten()\n",
    "\n",
    "# ------------------\n",
    "# Model definitions\n",
    "# ------------------\n",
    "class PositionalEncoding(nn.Module):\n",
    "    def __init__(self, d_model: int, max_len: int = 1000):\n",
    "        super().__init__()\n",
    "        pe = torch.zeros(max_len, d_model)\n",
    "        pos = torch.arange(0, max_len, dtype=torch.float32).unsqueeze(1)\n",
    "        div = torch.exp(torch.arange(0, d_model, 2, dtype=torch.float32) * (-math.log(10000.0) / d_model))\n",
    "        pe[:, 0::2] = torch.sin(pos * div)\n",
    "        pe[:, 1::2] = torch.cos(pos * div)\n",
    "        self.register_buffer(\"pe\", pe.unsqueeze(0))\n",
    "    def forward(self, x):\n",
    "        return x + self.pe[:, :x.size(1)]\n",
    "\n",
    "class TransformerTimeSeriesModel(nn.Module):\n",
    "    def __init__(self, input_size, d_model, nhead, num_layers, dim_feedforward,\n",
    "                 dropout, context_length, prediction_length, output_variance=True):\n",
    "        super().__init__()\n",
    "        self.context_length = context_length\n",
    "        self.prediction_length = prediction_length\n",
    "        self.output_variance = output_variance\n",
    "        self.input_proj = nn.Linear(input_size, d_model)\n",
    "        self.pos_enc = PositionalEncoding(d_model, max_len=context_length)\n",
    "        layer = nn.TransformerEncoderLayer(d_model=d_model, nhead=nhead,\n",
    "                                           dim_feedforward=dim_feedforward,\n",
    "                                           dropout=dropout, batch_first=True, norm_first=True)\n",
    "        self.encoder = nn.TransformerEncoder(layer, num_layers=num_layers)\n",
    "        out_dim = prediction_length * (2 if output_variance else 1)\n",
    "        self.head = nn.Linear(d_model, out_dim)\n",
    "    def forward(self, x):\n",
    "        h = self.input_proj(x)\n",
    "        h = self.pos_enc(h)\n",
    "        h = self.encoder(h)\n",
    "        h_last = h[:, -1, :]\n",
    "        out = self.head(h_last)\n",
    "        if self.output_variance:\n",
    "            mean, log_var = out.chunk(2, dim=-1)\n",
    "            mean = mean.view(-1, self.prediction_length)\n",
    "            log_var = log_var.view(-1, self.prediction_length).clamp(-7, 7)\n",
    "            return mean, log_var\n",
    "        return out.view(-1, self.prediction_length), None\n",
    "\n",
    "class TransformerACPIWrapper:\n",
    "    def __init__(self, transformer_model, device):\n",
    "        self.model = transformer_model.eval()\n",
    "        self.device = device\n",
    "    def predict(self, X):\n",
    "        with torch.no_grad():\n",
    "            t = torch.as_tensor(X, dtype=torch.float32, device=self.device).unsqueeze(-1)\n",
    "            mean, _ = self.model(t)\n",
    "            return mean.cpu().numpy().flatten()\n",
    "\n",
    "# ------------------\n",
    "# Training function\n",
    "# ------------------\n",
    "def train_transformer(train_series, context_length, prediction_length,\n",
    "                      device, epochs=5, batch_size=32, lr=1e-3, seed=0):\n",
    "    torch.manual_seed(seed)\n",
    "    np.random.seed(seed)\n",
    "    random.seed(seed)\n",
    "    model = TransformerTimeSeriesModel(\n",
    "        input_size=1, d_model=64, nhead=4, num_layers=2,\n",
    "        dim_feedforward=128, dropout=0.1,\n",
    "        context_length=context_length, prediction_length=prediction_length,\n",
    "        output_variance=True).to(device)\n",
    "    X, y = create_sequences(train_series, context_length, prediction_length)\n",
    "    X_t = torch.tensor(X, dtype=torch.float32).unsqueeze(-1)\n",
    "    y_t = torch.tensor(y, dtype=torch.float32)\n",
    "    loader = DataLoader(TensorDataset(X_t, y_t), batch_size=batch_size, shuffle=True)\n",
    "    opt = optim.Adam(model.parameters(), lr=lr)\n",
    "    for _ in range(epochs):\n",
    "        model.train()\n",
    "        for bx, by in loader:\n",
    "            bx, by = bx.to(device), by.to(device)\n",
    "            opt.zero_grad()\n",
    "            mean_pred, log_var = model(bx)\n",
    "            var = torch.exp(log_var)\n",
    "            loss = 0.5 * (torch.log(2 * math.pi * var) + (by - mean_pred)**2 / var).mean()\n",
    "            loss.backward()\n",
    "            opt.step()\n",
    "    return model\n",
    "\n",
    "# ------------------\n",
    "# Multi-run experiment\n",
    "# ------------------\n",
    "device = torch.device(\"cuda\" if torch.cuda.is_available() else \"cpu\")\n",
    "train_df = read_data(\"data/train.csv\")\n",
    "target_col = \"count\"\n",
    "series = train_df[target_col].values.astype(float)\n",
    "\n",
    "context_length = 24\n",
    "prediction_length = 1\n",
    "alpha = 0.1\n",
    "target_coverage = 1 - alpha\n",
    "num_runs = 10\n",
    "epochs_per_run = 5\n",
    "tolerance = 0.0\n",
    "\n",
    "coverages = []\n",
    "run_info = []\n",
    "\n",
    "for run in range(num_runs):\n",
    "    seed = 1000 + run\n",
    "    model = train_transformer(series, context_length, prediction_length,\n",
    "                              device, epochs=epochs_per_run, seed=seed)\n",
    "    X_tr, X_cal, X_test, y_tr, y_cal, y_test = prepare_acpi_data(series, context_length, prediction_length)\n",
    "    wrapper = TransformerACPIWrapper(model, device)\n",
    "    acpi = ACPI(model_cali=wrapper, n_estimators=100, max_depth=20, min_node_size=10)\n",
    "    acpi.fit(X_cal, y_cal, nonconformity_func=None)\n",
    "    acpi.fit_calibration(X_cal, y_cal, nonconformity_func=None, quantile=1-alpha, only_qrf=True)\n",
    "    y_lower, y_upper = acpi.predict_pi(X_test, method='qrf')\n",
    "    cov = compute_coverage(y_test, y_lower, y_upper)\n",
    "    coverages.append(cov)\n",
    "    status = \"below\" if cov < target_coverage - tolerance else (\"above\" if cov > target_coverage + tolerance else \"on\")\n",
    "\n",
    "    # measure how many times the ture value was above or below the prediction interval\n",
    "    n_below = (y_test < y_lower).sum()\n",
    "    n_above = (y_test > y_upper).sum()\n",
    "    n_within = ((y_test >= y_lower) & (y_test <= y_upper)).sum()\n",
    "    total = len(y_test)\n",
    "\n",
    "    run_info.append((run, cov, n_above, n_below, n_within, status))\n",
    "\n",
    "\n",
    "    print(f\"Run {run}: coverage={cov:.4f} (above={n_above}, below={n_below}, within={n_within}, total={total}) - Status: {status}\")\n",
    "\n",
    "\n",
    "\n",
    "# ------------------\n",
    "# Outlier summary\n",
    "# ------------------\n",
    "below = sum(1 for _, _, s in run_info if s == \"below\")\n",
    "above = sum(1 for _, _, s in run_info if s == \"above\")\n",
    "on = sum(1 for _, _, s in run_info if s == \"on\")\n",
    "print(f\"Below: {below}, Above: {above}, On-target: {on}\")\n",
    "\n",
    "\n",
    "\n",
    "# ------------------\n",
    "# Plots\n",
    "# ------------------\n",
    "plt.figure(figsize= (10,4))\n",
    "plt.plot(range(num_runs), coverages, marker='o', label='Coverage')\n",
    "plt.axhline(target_coverage, color='r', linestyle='--', label='Target')\n",
    "plt.title('ACPI Coverage per Run (Transformer)')\n",
    "plt.xlabel('Run')\n",
    "plt.ylabel('Coverage')\n",
    "plt.ylim(min(coverages)-0.02, max(coverages)+0.02)\n",
    "plt.grid(alpha=0.3)\n",
    "plt.legend()\n",
    "plt.tight_layout()\n",
    "\n",
    "# Scatter with color coding\n",
    "color_map = {\"below\":\"red\",\"above\":\"green\",\"on\":\"gray\"}\n",
    "plt.figure(figsize=(10,4))\n",
    "for run, cov, status in run_info:\n",
    "    plt.scatter(run, cov, color=color_map[status], s=60)\n",
    "plt.axhline(target_coverage, color='black', linestyle='--')\n",
    "plt.title('Coverage Classification per Run')\n",
    "plt.xlabel('Run')\n",
    "plt.ylabel('Coverage')\n",
    "plt.grid(alpha=0.3)\n",
    "plt.tight_layout()\n",
    "\n",
    "# Bar chart of outlier counts\n",
    "plt.figure(figsize=(6,4))\n",
    "plt.bar(['Below','On','Above'], [below, on, above], color=['red','gray','green'])\n",
    "plt.title('Run Coverage Status Counts')\n",
    "plt.ylabel('Count')\n",
    "plt.tight_layout()\n",
    "\n",
    "# Histogram of coverage values\n",
    "plt.figure(figsize=(8,4))\n",
    "plt.hist(coverages, bins=8, color='steelblue', edgecolor='black')\n",
    "plt.axvline(target_coverage, color='r', linestyle='--', label='Target')\n",
    "plt.title('Coverage Distribution')\n",
    "plt.xlabel('Coverage')\n",
    "plt.ylabel('Frequency')\n",
    "plt.legend()\n",
    "plt.tight_layout()\n",
    "plt.show()\n",
    "\n",
    "# Optional: dataframe of results\n",
    "results_df = pd.DataFrame(run_info, columns=['run','coverage','status'])\n",
    "print(results_df)"
   ],
   "id": "c572490a345548f8",
   "outputs": [
    {
     "name": "stderr",
     "output_type": "stream",
     "text": [
      "100%|██████████| 50/50 [02:08<00:00,  2.57s/it]\n"
     ]
    },
    {
     "name": "stdout",
     "output_type": "stream",
     "text": [
      "Run 0: coverage=0.8573 (above=306, below=159, within=2793, total=3258) - Status: below\n"
     ]
    },
    {
     "name": "stderr",
     "output_type": "stream",
     "text": [
      "100%|██████████| 50/50 [14:39<00:00, 17.59s/it] \n"
     ]
    },
    {
     "name": "stdout",
     "output_type": "stream",
     "text": [
      "Run 1: coverage=0.8692 (above=293, below=133, within=2832, total=3258) - Status: below\n"
     ]
    }
   ],
   "execution_count": null
  },
  {
   "metadata": {
    "ExecuteTime": {
     "end_time": "2025-08-30T20:31:41.097322Z",
     "start_time": "2025-08-30T20:31:41.091234Z"
    }
   },
   "cell_type": "code",
   "source": "run_info",
   "id": "414178f74f56b998",
   "outputs": [
    {
     "data": {
      "text/plain": [
       "[(0,\n",
       "  np.float64(0.8572744014732965),\n",
       "  np.int64(306),\n",
       "  np.int64(159),\n",
       "  np.int64(2793),\n",
       "  'below'),\n",
       " (1,\n",
       "  np.float64(0.8692449355432781),\n",
       "  np.int64(293),\n",
       "  np.int64(133),\n",
       "  np.int64(2832),\n",
       "  'below'),\n",
       " (2,\n",
       "  np.float64(0.874462860650706),\n",
       "  np.int64(228),\n",
       "  np.int64(181),\n",
       "  np.int64(2849),\n",
       "  'below'),\n",
       " (3,\n",
       "  np.float64(0.8422344996930632),\n",
       "  np.int64(333),\n",
       "  np.int64(181),\n",
       "  np.int64(2744),\n",
       "  'below'),\n",
       " (4,\n",
       "  np.float64(0.8588090853284224),\n",
       "  np.int64(269),\n",
       "  np.int64(191),\n",
       "  np.int64(2798),\n",
       "  'below'),\n",
       " (5,\n",
       "  np.float64(0.885512584407612),\n",
       "  np.int64(182),\n",
       "  np.int64(191),\n",
       "  np.int64(2885),\n",
       "  'below'),\n",
       " (6,\n",
       "  np.float64(0.8667894413750767),\n",
       "  np.int64(241),\n",
       "  np.int64(193),\n",
       "  np.int64(2824),\n",
       "  'below'),\n",
       " (7,\n",
       "  np.float64(0.8741559238796808),\n",
       "  np.int64(131),\n",
       "  np.int64(279),\n",
       "  np.int64(2848),\n",
       "  'below'),\n",
       " (8,\n",
       "  np.float64(0.8572744014732965),\n",
       "  np.int64(177),\n",
       "  np.int64(288),\n",
       "  np.int64(2793),\n",
       "  'below'),\n",
       " (9,\n",
       "  np.float64(0.8465316144874155),\n",
       "  np.int64(294),\n",
       "  np.int64(206),\n",
       "  np.int64(2758),\n",
       "  'below')]"
      ]
     },
     "execution_count": 17,
     "metadata": {},
     "output_type": "execute_result"
    }
   ],
   "execution_count": 17
  },
  {
   "metadata": {
    "ExecuteTime": {
     "end_time": "2025-08-30T20:32:30.280881Z",
     "start_time": "2025-08-30T20:32:30.265688Z"
    }
   },
   "cell_type": "code",
   "source": [
    "# Save the run information to a CSV file\n",
    "run_info_df = pd.DataFrame(run_info, columns=['run', 'coverage', 'n_above', 'n_below', 'n_within', 'status'])\n",
    "run_info_df.to_csv('transformer_acpi_run_info.csv', index=False)"
   ],
   "id": "fb96aef8f09acf2f",
   "outputs": [],
   "execution_count": 20
  },
  {
   "metadata": {
    "ExecuteTime": {
     "end_time": "2025-08-30T20:33:45.554189Z",
     "start_time": "2025-08-30T20:33:45.421449Z"
    }
   },
   "cell_type": "code",
   "source": [
    "# plot the n_above, n_below, n_within for each run\n",
    "plt.figure(figsize=(10,6))\n",
    "width = 0.2\n",
    "x = np.arange(len(run_info))\n",
    "n_above = [info[2] for info in run_info]\n",
    "n_below = [info[3] for info in run_info]\n",
    "plt.bar(x - width, n_above, width, label='Above', color='red')\n",
    "plt.bar(x + width, n_below, width, label='Below', color='blue')\n",
    "plt.xlabel('Run')\n",
    "plt.ylabel('Count')\n",
    "plt.title('Counts of Predictions Above, Within, and Below Prediction Intervals per Run')\n",
    "plt.xticks(x, [info[0] for info in run_info])\n",
    "plt.legend()\n",
    "plt.grid(alpha=0.3)\n",
    "plt.tight_layout()\n",
    "plt.show()"
   ],
   "id": "bfec6746ee49770a",
   "outputs": [
    {
     "data": {
      "text/plain": [
       "<Figure size 1000x600 with 1 Axes>"
      ],
      "image/png": "[encoded data removed]"
     },
     "metadata": {},
     "output_type": "display_data"
    }
   ],
   "execution_count": 22
  },
  {
   "metadata": {},
   "cell_type": "code",
   "outputs": [],
   "execution_count": null,
   "source": "",
   "id": "9b8b82a17fc039bd"
  }
 ],
 "metadata": {
  "kernelspec": {
   "display_name": "Python 3",
   "language": "python",
   "name": "python3"
  },
  "language_info": {
   "codemirror_mode": {
    "name": "ipython",
    "version": 2
   },
   "file_extension": ".py",
   "mimetype": "text/x-python",
   "name": "python",
   "nbconvert_exporter": "python",
   "pygments_lexer": "ipython2",
   "version": "2.7.6"
  }
 },
 "nbformat": 4,
 "nbformat_minor": 5
}
